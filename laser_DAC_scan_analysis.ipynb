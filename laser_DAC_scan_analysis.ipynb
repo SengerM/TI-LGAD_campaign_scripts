{
 "cells": [
  {
   "cell_type": "code",
   "execution_count": null,
   "id": "b310a95a",
   "metadata": {},
   "outputs": [],
   "source": [
    "from IPython.core.display import display, HTML\n",
    "display(HTML(\"<style>.container { width:100% !important; }</style>\"))\n",
    "%autosave 0"
   ]
  },
  {
   "cell_type": "code",
   "execution_count": null,
   "id": "c1620198",
   "metadata": {},
   "outputs": [],
   "source": [
    "import pandas\n",
    "import utils\n",
    "from pathlib import Path\n",
    "import plotly.express as px\n",
    "import measurements_table\n",
    "from scipy.interpolate import interp1d"
   ]
  },
  {
   "cell_type": "code",
   "execution_count": null,
   "id": "e06b8683",
   "metadata": {},
   "outputs": [],
   "source": [
    "measurements_table_df = measurements_table.create_measurements_table()\n",
    "\n",
    "scans_and_sub_measurements_df = pandas.DataFrame()\n",
    "for root_measurement_name in ['20211116015124_#88_sweeping_laser_DAC']:\n",
    "    with open(utils.path_to_measurements_directory/Path(root_measurement_name)/Path('scan_1D_sweeping_laser_DAC')/Path('README.txt'), 'r') as ifile:\n",
    "        for line in ifile:\n",
    "            if 'This measurement created automatically all the following measurements:' in line:\n",
    "                continue\n",
    "            measurement_name = line.replace('\\n','')\n",
    "            scans_and_sub_measurements_df = scans_and_sub_measurements_df.append(\n",
    "                {\n",
    "                    'Scan name': measurement_name, \n",
    "                    'Laser DAC scan measurement name': root_measurement_name,\n",
    "                },\n",
    "                ignore_index = True,\n",
    "            )\n",
    "scans_and_sub_measurements_df.set_index('Scan name', inplace=True)\n",
    "display(scans_and_sub_measurements_df)"
   ]
  },
  {
   "cell_type": "markdown",
   "id": "f3ac8d46",
   "metadata": {},
   "source": [
    "Read interpixel distance and calibration factor (previously calculated by the respective scripts) for each measurement:"
   ]
  },
  {
   "cell_type": "code",
   "execution_count": null,
   "id": "3e274b38",
   "metadata": {},
   "outputs": [],
   "source": [
    "interpixel_distances_df = pandas.DataFrame()\n",
    "for measurement_name in scans_and_sub_measurements_df.index:\n",
    "    try:\n",
    "        this_measurement_IPD = utils.read_previously_calculated_inter_pixel_distance(measurement_name)\n",
    "    except FileNotFoundError:\n",
    "        this_measurement_IPD = float('NaN')\n",
    "        print(f'Cannot find IPD for measurement {measurement_name}...')\n",
    "    try:\n",
    "        this_measurement_calibration_factor = utils.read_previously_calculated_distance_calibration_factor(measurement_name)\n",
    "    except FileNotFoundError:\n",
    "        this_measurement_calibration_factor = float('NaN')\n",
    "        print(f'Cannot find distance calibration factor for measurement {measurement_name}...')\n",
    "    try:\n",
    "        this_measurement_belongs_to_the_laser_DAC_scan = scans_and_sub_measurements_df.loc[measurement_name,'Laser DAC scan measurement name']\n",
    "    except KeyError:\n",
    "        this_measurement_belongs_to_the_laser_DAC_scan = '?'\n",
    "    interpixel_distances_df = interpixel_distances_df.append(\n",
    "        {\n",
    "            'Measurement name': measurement_name,\n",
    "            'IPD (m)': this_measurement_IPD,\n",
    "            'Distance calibration factor':this_measurement_calibration_factor,\n",
    "            'Laser DAC scan measurement name': this_measurement_belongs_to_the_laser_DAC_scan,\n",
    "        },\n",
    "        ignore_index = True,\n",
    "    )\n",
    "interpixel_distances_df.set_index('Measurement name', inplace=True)\n",
    "display(interpixel_distances_df)"
   ]
  },
  {
   "cell_type": "markdown",
   "id": "6aebec86",
   "metadata": {},
   "source": [
    "Now build a full dataframe with this information and the information of each detector:"
   ]
  },
  {
   "cell_type": "code",
   "execution_count": null,
   "id": "2e575c99",
   "metadata": {
    "scrolled": false
   },
   "outputs": [],
   "source": [
    "interpixel_distances_df = interpixel_distances_df.join(measurements_table_df)\n",
    "interpixel_distances_df.reset_index(inplace=True)\n",
    "interpixel_distances_df['Device'] = interpixel_distances_df['Measured device']\n",
    "interpixel_distances_df.set_index('Device', inplace=True)\n",
    "interpixel_distances_df = interpixel_distances_df.join(utils.bureaucrat.devices_sheet_df)\n",
    "\n",
    "display(interpixel_distances_df)\n",
    "print(sorted(interpixel_distances_df.columns))"
   ]
  },
  {
   "cell_type": "markdown",
   "id": "cea83a92",
   "metadata": {},
   "source": [
    "## Load \"Laser DAC\" → MIP calibration"
   ]
  },
  {
   "cell_type": "code",
   "execution_count": null,
   "id": "0e336bf6",
   "metadata": {},
   "outputs": [],
   "source": [
    "Laser_DAC_scan_on_PIN_diode_df = pandas.read_csv(utils.path_to_measurements_directory/Path('20211007085602_#57_PIN_LaserDACScan/laser_intensity_scan/measured_data.csv'))\n",
    "Laser_DAC_scan_on_PIN_diode_df = utils.mean_std(\n",
    "    Laser_DAC_scan_on_PIN_diode_df,\n",
    "    by = ['n_DAC','DAC value'],\n",
    ")\n",
    "ONE_MIP_TO_VOLT_SECOND_RATIO = 35e-12 # V*s/MIP (This comes from the beta scan I did with the PIN didoe.)\n",
    "DAC_to_MIP = interp1d(\n",
    "    x = Laser_DAC_scan_on_PIN_diode_df['DAC value'],\n",
    "    y = Laser_DAC_scan_on_PIN_diode_df['Collected charge (V s) mean']/ONE_MIP_TO_VOLT_SECOND_RATIO,\n",
    ")"
   ]
  },
  {
   "cell_type": "code",
   "execution_count": null,
   "id": "fd220ead",
   "metadata": {
    "scrolled": false
   },
   "outputs": [],
   "source": [
    "df = interpixel_distances_df.copy().reset_index()\n",
    "df['Injected charge (number of MIPs)'] = df['Laser DAC'].apply(DAC_to_MIP)\n",
    "df['IPD with calibration (m)'] = df['IPD (m)']*df['Distance calibration factor']\n",
    "df = df.sort_values(by=['Laser DAC','trenches','trench depth'])\n",
    "fig = utils.line(\n",
    "    data_frame = df,\n",
    "    line_group = 'Laser DAC scan measurement name',\n",
    "    x = 'Injected charge (number of MIPs)',\n",
    "    y = 'IPD with calibration (m)',\n",
    "    facet_col = 'wafer',\n",
    "    facet_row = 'trenches',\n",
    "    color = 'trench depth',\n",
    "    symbol = 'pixel border',\n",
    "    line_dash = 'contact type',\n",
    "    grouped_legend = True,\n",
    "    hover_name = 'Measurement name',\n",
    "    labels = {\n",
    "        'IPD with calibration (m)': 'IPD (m)',\n",
    "    },\n",
    "    text = 'Device',\n",
    ")\n",
    "fig.show()\n",
    "fig.write_html('ipd_vs_injected_charge.html', include_plotlyjs='cdn')"
   ]
  }
 ],
 "metadata": {
  "kernelspec": {
   "display_name": "Python 3 (ipykernel)",
   "language": "python",
   "name": "python3"
  },
  "language_info": {
   "codemirror_mode": {
    "name": "ipython",
    "version": 3
   },
   "file_extension": ".py",
   "mimetype": "text/x-python",
   "name": "python",
   "nbconvert_exporter": "python",
   "pygments_lexer": "ipython3",
   "version": "3.8.10"
  }
 },
 "nbformat": 4,
 "nbformat_minor": 5
}
