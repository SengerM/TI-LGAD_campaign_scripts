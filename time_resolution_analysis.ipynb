{
 "cells": [
  {
   "cell_type": "code",
   "execution_count": null,
   "id": "b310a95a",
   "metadata": {},
   "outputs": [],
   "source": [
    "from IPython.core.display import display, HTML\n",
    "display(HTML(\"<style>.container { width:100% !important; }</style>\"))"
   ]
  },
  {
   "cell_type": "code",
   "execution_count": null,
   "id": "c1620198",
   "metadata": {},
   "outputs": [],
   "source": [
    "import pandas\n",
    "import utils\n",
    "from data_processing_bureaucrat.Bureaucrat import Bureaucrat\n",
    "from pathlib import Path\n",
    "import plotly.express as px\n",
    "import measurements_table\n",
    "from sweeping_voltage_scan_plots import get_color"
   ]
  },
  {
   "cell_type": "markdown",
   "id": "125ff8a9",
   "metadata": {},
   "source": [
    "Before starting, we build a table relating each scan name with each \"voltage sweep measurement\""
   ]
  },
  {
   "cell_type": "code",
   "execution_count": null,
   "id": "e06b8683",
   "metadata": {},
   "outputs": [],
   "source": [
    "measurements_table_df = measurements_table.create_measurements_table()\n",
    "\n",
    "# For each of the \"scan 1D seeping bias voltage\" I collect all the single voltage 1D scans that were created in such \"voltage sweep scan\".\n",
    "scans_and_sub_measurements_df = pandas.DataFrame()\n",
    "for root_measurement_name in measurements_table_df.query('Type==\"scan 1D sweeping bias voltage\"').index:\n",
    "    with open(utils.path_to_measurements_directory/Path(root_measurement_name)/Path('scan_1D_sweeping_bias_voltage/README.txt'), 'r') as ifile:\n",
    "        for idx, line in enumerate(ifile):\n",
    "            if idx == 0:\n",
    "                continue\n",
    "            scans_and_sub_measurements_df = scans_and_sub_measurements_df.append({'Scan name': line.replace('\\n',''), 'Voltage scan measurement name': root_measurement_name}, ignore_index=True)\n",
    "scans_and_sub_measurements_df.set_index('Scan name', inplace=True)\n",
    "display(scans_and_sub_measurements_df)"
   ]
  },
  {
   "cell_type": "markdown",
   "id": "f3ac8d46",
   "metadata": {},
   "source": [
    "Read interpixel distance and calibration factor (previously calculated by the respective scripts) for each measurement:"
   ]
  },
  {
   "cell_type": "code",
   "execution_count": null,
   "id": "3e274b38",
   "metadata": {
    "scrolled": false
   },
   "outputs": [],
   "source": [
    "time_resolutions_df = []#pandas.DataFrame()\n",
    "for measurement_name in measurements_table_df.query('Type==\"scan 1D\"').index:\n",
    "    try:\n",
    "        this_measurement_time_resolution_df = utils.read_previously_calculated_time_resolution(measurement_name)\n",
    "    except FileNotFoundError:\n",
    "        #print(f'Cannot find time resolution calculation for measurement {measurement_name}...')\n",
    "        continue\n",
    "    try:\n",
    "        this_measurement_calibration_factor = utils.read_previously_calculated_distance_calibration_factor(measurement_name)\n",
    "    except FileNotFoundError:\n",
    "        this_measurement_calibration_factor = float('NaN')\n",
    "        print(f'Cannot find distance calibration factor for measurement {measurement_name}...')\n",
    "    try:\n",
    "        this_measurement_belongs_to_the_voltage_scan = scans_and_sub_measurements_df.loc[measurement_name,'Voltage scan measurement name']\n",
    "    except KeyError:\n",
    "        this_measurement_belongs_to_the_voltage_scan = '?'\n",
    "    this_measurement_time_resolution_df['Distance calibration factor'] = this_measurement_calibration_factor\n",
    "    this_measurement_time_resolution_df['Voltage scan measurement name'] = this_measurement_belongs_to_the_voltage_scan\n",
    "    time_resolutions_df.append(this_measurement_time_resolution_df)#, ignore_index = True)\n",
    "time_resolutions_df = pandas.concat(time_resolutions_df, axis=0, ignore_index=True)\n",
    "display(time_resolutions_df)"
   ]
  },
  {
   "cell_type": "markdown",
   "id": "6aebec86",
   "metadata": {},
   "source": [
    "Now build a full dataframe with this information and the information of each detector:"
   ]
  },
  {
   "cell_type": "code",
   "execution_count": null,
   "id": "2e575c99",
   "metadata": {},
   "outputs": [],
   "source": [
    "time_resolutions_df.set_index('Measurement name', inplace=True)\n",
    "time_resolutions_df['Device'] = measurements_table_df['Measured device']\n",
    "time_resolutions_df['Bias voltage (V)'] = measurements_table_df['Bias voltage (V)']\n",
    "time_resolutions_df.loc[time_resolutions_df['Bias voltage (V)']=='?','Bias voltage (V)'] = 'NaN'\n",
    "time_resolutions_df['Bias voltage (V)'] = time_resolutions_df['Bias voltage (V)'].astype(float)\n",
    "time_resolutions_df.reset_index(inplace=True)\n",
    "time_resolutions_df.set_index('Device', inplace=True)\n",
    "time_resolutions_df = time_resolutions_df.join(utils.bureaucrat.devices_sheet_df)\n",
    "\n",
    "display(time_resolutions_df)\n",
    "print(sorted(time_resolutions_df.columns))"
   ]
  },
  {
   "cell_type": "markdown",
   "id": "56fcc715",
   "metadata": {},
   "source": [
    "# Plots"
   ]
  },
  {
   "cell_type": "markdown",
   "id": "3e1733ff",
   "metadata": {},
   "source": [
    "## Time resolution vs distance vs bias voltage"
   ]
  },
  {
   "cell_type": "code",
   "execution_count": null,
   "id": "fd220ead",
   "metadata": {
    "scrolled": false
   },
   "outputs": [],
   "source": [
    "df_to_plot = time_resolutions_df.reset_index().query('`Voltage scan measurement name`==\"20211108201239_#20_sweeping_bias_voltage\"').copy() # Select a single voltage sweep to show.\n",
    "df_to_plot = df_to_plot.query('`k_1 (%)`==50').query('`k_2 (%)`==50')\n",
    "df_to_plot = df_to_plot.query('`Bias voltage (V)`<230') # Higher values produce amplitudes > 1 V and enter into the nonlinear regime of the Cividec amplifiers.\n",
    "df_to_plot = df_to_plot.sort_values(by=['n_position','Bias voltage (V)'])\n",
    "fig = utils.line(\n",
    "    data_frame = df_to_plot,\n",
    "    line_group = 'Measurement name',\n",
    "    x = 'Distance (m)',\n",
    "    y = 'Time resolution (s)',\n",
    "    line_dash = 'Pad',\n",
    "    color = 'Bias voltage (V)',\n",
    "    color_discrete_sequence = [get_color('Bluered', i/(len(set(df_to_plot['Bias voltage (V)']))-1)) for i in range(len(set(df_to_plot['Bias voltage (V)'])))],\n",
    "    hover_name = 'Measurement name',\n",
    "    title = f'Time res3olution vs scan distance @ different bias voltages<br><sup>Measurement: {list(set(df_to_plot[\"Voltage scan measurement name\"]))[0]}</sup>',\n",
    "    log_y = True,\n",
    "    labels = {\n",
    "        'Distance (m)': 'Laser position (m)',\n",
    "    },\n",
    ")\n",
    "fig.show()\n",
    "fig.write_html('time_resolution_vs_distance_vs_bias_voltage.html', include_plotlyjs = 'cdn')"
   ]
  },
  {
   "cell_type": "markdown",
   "id": "8db78a94",
   "metadata": {},
   "source": [
    "## Average time resolution (in distance) vs bias voltage"
   ]
  },
  {
   "cell_type": "code",
   "execution_count": null,
   "id": "57ed0fe5",
   "metadata": {
    "scrolled": false
   },
   "outputs": [],
   "source": [
    "left_plateau_rows = (time_resolutions_df['Distance (m)']>66e-6)&(time_resolutions_df['Distance (m)']<133e-6)&(time_resolutions_df['Pad']=='left')\n",
    "right_plateau_rows = (time_resolutions_df['Distance (m)']>200e-6)&(time_resolutions_df['Distance (m)']<266e-6)&(time_resolutions_df['Pad']=='right')\n",
    "df = time_resolutions_df[left_plateau_rows|right_plateau_rows].copy()\n",
    "df = df.query('`Time resolution (s)`<1e-9') # There are a few noisy points, just get rid of them.\n",
    "df = df.query('`k_1 (%)`==50').query('`k_2 (%)`==50')\n",
    "df.reset_index(inplace=True)\n",
    "df = df[~df['Device'].isin({'1','2'})]\n",
    "df = df[~df['Voltage scan measurement name'].isin(\n",
    "    {\n",
    "        '20211024163128_#65_sweeping_bias_voltage', # This measurement did not have all the pads grounded.\n",
    "        '?',\n",
    "    }\n",
    ")]\n",
    "df = df.query('`Bias voltage (V)`<=222') # Higher values produced amplitudes > 1 V that goes out the linear dynamic range of the amplifiers.\n",
    "df = df[[\n",
    "  #  '#', \n",
    "    'Bias voltage (V)', \n",
    "  #  'Delta_t std (s)', \n",
    "    'Device', \n",
    "  #  'Distance (m)', \n",
    "  #  'Distance calibration factor', \n",
    "    'Measurement name', \n",
    "  #  'PGAIN dose', \n",
    "  #  'Pad', \n",
    "    'Time resolution (s)', \n",
    "    'Voltage scan measurement name', \n",
    "  #  'color', \n",
    "  #  'comments', \n",
    "    'contact type', \n",
    "  #  'fluence', \n",
    "  #  'gain', \n",
    "  #  'irradiate with', \n",
    "  #  'k_1 (%)', \n",
    "  #  'k_2 (%)', \n",
    "  #  'n_position', \n",
    "  #  'n_trigger', \n",
    "    'pixel border', \n",
    "  #  'production', \n",
    "  #  'seems dead?', \n",
    "  #  'status', \n",
    "  #  'substrate thickness (µm)', \n",
    "    'trench depth', \n",
    "  #  'trench process', \n",
    "    'trenches', \n",
    "  #  'type', \n",
    "    'wafer', \n",
    "  #  'was measured before irradiation', \n",
    "  #  'x', 'y',\n",
    "]]\n",
    "df = utils.mean_std(\n",
    "    df,\n",
    "    by = list(set(df.columns).difference({\n",
    "       'Time resolution (s)',\n",
    "    }))\n",
    ")\n",
    "df = df.sort_values(by=['Bias voltage (V)','trenches','trench depth']).reset_index()\n",
    "fig = utils.line(\n",
    "    data_frame = df,\n",
    "    line_group = 'Voltage scan measurement name',\n",
    "    x = 'Bias voltage (V)',\n",
    "    y = 'Time resolution (s) mean',\n",
    "    error_y = 'Time resolution (s) std',\n",
    "    error_y_mode = 'band',\n",
    "    facet_col = 'wafer',\n",
    "    facet_row = 'trenches',\n",
    "    color = 'trench depth',\n",
    "    symbol = 'pixel border',\n",
    "    line_dash = 'contact type',\n",
    "    grouped_legend = True,\n",
    "    hover_name = 'Measurement name',\n",
    "    text = 'Device',\n",
    "    log_y = True,\n",
    "    labels = {\n",
    "        'Time resolution (s) mean': 'Time resolution (s)',\n",
    "    },\n",
    ")\n",
    "fig.show()\n",
    "fig.write_html('time_resolution_vs_bias_voltage.html', include_plotlyjs = 'cdn')"
   ]
  }
 ],
 "metadata": {
  "kernelspec": {
   "display_name": "Python 3 (ipykernel)",
   "language": "python",
   "name": "python3"
  },
  "language_info": {
   "codemirror_mode": {
    "name": "ipython",
    "version": 3
   },
   "file_extension": ".py",
   "mimetype": "text/x-python",
   "name": "python",
   "nbconvert_exporter": "python",
   "pygments_lexer": "ipython3",
   "version": "3.8.10"
  }
 },
 "nbformat": 4,
 "nbformat_minor": 5
}
