{
 "cells": [
  {
   "cell_type": "markdown",
   "id": "c4d26e07",
   "metadata": {},
   "source": [
    "# *Scan 1D analyses*"
   ]
  },
  {
   "cell_type": "code",
   "execution_count": null,
   "id": "4af27b10",
   "metadata": {},
   "outputs": [],
   "source": [
    "from IPython.core.display import display, HTML\n",
    "display(HTML(\"<style>.container { width:100% !important; }</style>\"))"
   ]
  },
  {
   "cell_type": "code",
   "execution_count": null,
   "id": "35d11b13",
   "metadata": {},
   "outputs": [],
   "source": [
    "from pathlib import Path\n",
    "from measurements_table import create_measurements_table\n",
    "import utils\n",
    "import pandas\n",
    "import plotly.express as px\n",
    "import plotly.graph_objects as go"
   ]
  },
  {
   "cell_type": "markdown",
   "id": "0082d2ee",
   "metadata": {},
   "source": [
    "# Load data"
   ]
  },
  {
   "cell_type": "code",
   "execution_count": null,
   "id": "74ee8ffc",
   "metadata": {
    "scrolled": false
   },
   "outputs": [],
   "source": [
    "measurements_table_df = create_measurements_table()\n",
    "\n",
    "# For each of the \"scan 1D seeping bias voltage\" I collect all the single voltage 1D scans that were created in such \"voltage sweep scan\".\n",
    "scans_and_sub_measurements_df = pandas.DataFrame()\n",
    "for root_measurement_name in measurements_table_df.query('Type==\"scan 1D sweeping bias voltage\"').index:\n",
    "    with open(utils.path_to_measurements_directory/Path(root_measurement_name)/Path('scan_1D_sweeping_bias_voltage/README.txt'), 'r') as ifile:\n",
    "        for idx, line in enumerate(ifile):\n",
    "            if idx == 0:\n",
    "                continue\n",
    "            scans_and_sub_measurements_df = scans_and_sub_measurements_df.append({'Scan name': line.replace('\\n',''), 'Root measurement name': root_measurement_name}, ignore_index=True)\n",
    "scans_and_sub_measurements_df.set_index('Scan name', inplace=True)\n",
    "display(scans_and_sub_measurements_df)"
   ]
  },
  {
   "cell_type": "code",
   "execution_count": null,
   "id": "f93ba6ec",
   "metadata": {},
   "outputs": [],
   "source": [
    "display(set(scans_and_sub_measurements_df['Root measurement name']))"
   ]
  },
  {
   "cell_type": "markdown",
   "id": "56837019",
   "metadata": {},
   "source": [
    "Now actually read the measured data:"
   ]
  },
  {
   "cell_type": "code",
   "execution_count": null,
   "id": "909405b5",
   "metadata": {
    "scrolled": true
   },
   "outputs": [],
   "source": [
    "measured_data_df = pandas.DataFrame()\n",
    "for measurement_name in scans_and_sub_measurements_df.index:\n",
    "    #if scans_and_sub_measurements_df.loc[measurement_name,'Root measurement name'] not in {'20211104233152_#45_sweeping_bias_voltage','20211022095225_#1_sweeping_bias_voltage'}:\n",
    "    #    continue\n",
    "    this_measurement_data = utils.read_and_pre_process_1D_scan_data(measurement_name)\n",
    "    measured_data_df = measured_data_df.append(this_measurement_data)"
   ]
  },
  {
   "cell_type": "markdown",
   "id": "f6a89eff",
   "metadata": {},
   "source": [
    "Add some info related to the device, as well as some values of measurement variables..."
   ]
  },
  {
   "cell_type": "code",
   "execution_count": null,
   "id": "529d3f97",
   "metadata": {
    "scrolled": true
   },
   "outputs": [],
   "source": [
    "for measurement_name in set(measured_data_df['Measurement name']):\n",
    "    this_measurement_rows = measured_data_df['Measurement name']==measurement_name\n",
    "    measured_data_df.loc[this_measurement_rows, 'Set bias voltage (V)'] = float(measurements_table_df.loc[measurement_name, 'Bias voltage (V)'])\n",
    "    measured_data_df.loc[this_measurement_rows, 'Laser DAC'] = measurements_table_df.loc[measurement_name, 'Laser DAC']\n",
    "    this_measurement_device_name = list(set(this_measurement_data['Device']))[0]\n",
    "    for param in {'Trench depth','Trenches','Trench process','Pixel border','Contact type','Wafer'}:\n",
    "        measured_data_df.loc[this_measurement_rows, param] = utils.get_devices_specs_dictionary(this_measurement_device_name)[param.lower()]"
   ]
  },
  {
   "cell_type": "code",
   "execution_count": null,
   "id": "45460bc8",
   "metadata": {},
   "outputs": [],
   "source": [
    "display(measured_data_df)\n",
    "print(sorted(measured_data_df.columns))"
   ]
  },
  {
   "cell_type": "markdown",
   "id": "3c6addd9",
   "metadata": {},
   "source": [
    "From now on we should not touch `measured_data_df` anymore, just read it."
   ]
  },
  {
   "cell_type": "markdown",
   "id": "92720fff",
   "metadata": {},
   "source": [
    "# Measured variables vs distance and comparison with geometry"
   ]
  },
  {
   "cell_type": "code",
   "execution_count": null,
   "id": "6e84717c",
   "metadata": {
    "scrolled": false
   },
   "outputs": [],
   "source": [
    "averaged_data_per_position_df = utils.mean_std(\n",
    "    measured_data_df,\n",
    "    by = list(set(measured_data_df.columns).difference({\n",
    "        'Amplitude (V)',\n",
    "        'Bias current (A)',\n",
    "        'Bias voltage (V)',\n",
    "        'Collected charge (V s)',\n",
    "        'Laser DAC',\n",
    "        'Noise (V)',\n",
    "        'Normalized collected charge',\n",
    "        'Rise time (s)',\n",
    "        'Time over noise (s)',\n",
    "        'When',\n",
    "        'n_trigger',\n",
    "        't_10 (s)', 't_20 (s)', 't_30 (s)', 't_40 (s)', 't_50 (s)', 't_60 (s)', 't_70 (s)', 't_80 (s)', 't_90 (s)', \n",
    "        'x (m)', 'y (m)', 'z (m)',\n",
    "    }))\n",
    ")\n",
    "display(averaged_data_per_position_df)\n",
    "print(sorted(averaged_data_per_position_df.columns))"
   ]
  },
  {
   "cell_type": "code",
   "execution_count": null,
   "id": "e1d274fc",
   "metadata": {},
   "outputs": [],
   "source": [
    "figs_to_draw_geometry = []\n",
    "for y in {'Normalized collected charge','Collected charge (V s)','Amplitude (V)'}:\n",
    "    fig = utils.line(\n",
    "        data_frame = averaged_data_per_position_df.query('n_pulse==1'),\n",
    "        line_group = 'Measurement name',\n",
    "        x = 'Distance - offset (m)',\n",
    "        y = y + ' mean',\n",
    "        error_y = y + ' std',\n",
    "        error_y_mode = 'bands',\n",
    "        color = 'Device',\n",
    "        title = str(y),\n",
    "        hover_name = 'Measurement name',\n",
    "    )\n",
    "    figs_to_draw_geometry.append(fig)\n",
    "for idx,fig in enumerate(figs_to_draw_geometry):\n",
    "    for x in [-125e-6, 0, 125e-6]:\n",
    "        fig.add_shape(type=\"line\",\n",
    "            yref = \"paper\",\n",
    "            x0 = x,\n",
    "            y0 = 0,\n",
    "            x1 = x,\n",
    "            y1 = 1,\n",
    "            line = dict(\n",
    "                color = 'black',\n",
    "                dash = 'dash',\n",
    "            ),\n",
    "        )\n",
    "    fig.show()"
   ]
  },
  {
   "cell_type": "markdown",
   "id": "00e9fb16",
   "metadata": {},
   "source": [
    "## Inter-pixel distance plot"
   ]
  },
  {
   "cell_type": "code",
   "execution_count": null,
   "id": "54513fd4",
   "metadata": {
    "scrolled": false
   },
   "outputs": [],
   "source": [
    "df = pandas.DataFrame()\n",
    "df = df.append(interpixel_distances_df)\n",
    "measurements_table_persistent_df = pandas.read_excel('measurements_table_persistent.ods', engine='odf', index_col='Measurement name')\n",
    "df['All pads DC grounded?'] = measurements_table_persistent_df['All pads DC grounded?']\n",
    "df = df[df['Root measurement name'].isin({\n",
    "    '20211103181351_#14_sweeping_bias_voltage',\n",
    "    '20211028161049_#34_sweeping_bias_voltage',\n",
    "    '20211029103905_#34_sweeping_bias_voltage',\n",
    "    '20211029201114_#36_sweeping_bias_voltage',\n",
    "    '20211031200029_#4_sweeping_bias_voltage',\n",
    "    '20211104233152_#45_sweeping_bias_voltage',\n",
    "    '20211101203924_#52_sweeping_bias_voltage',\n",
    "    '20211025184544_#65_sweeping_bias_voltage',\n",
    "    '20211030201504_#68_sweeping_bias_voltage',\n",
    "    '20211102143313_#84_sweeping_bias_voltage',\n",
    "})]\n",
    "df['Wafer'] = df['Wafer'].astype(int)\n",
    "\n",
    "fig = utils.line(\n",
    "    data_frame = df.sort_values(['Device specs','Device','Set bias voltage (V)']).reset_index(),\n",
    "    x = 'Set bias voltage (V)',\n",
    "    y = 'Inter-pixel distance (m)',\n",
    "    color = 'Wafer',\n",
    "    symbol = 'Pixel border',\n",
    "    line_dash = 'Contact type',\n",
    "    hover_name = 'Measurement name',\n",
    "    markers = True,\n",
    "    title = 'Inter-pixel distance vs bias voltage using normalized collected charge with linear interpolation',\n",
    "    grouped_legend = True,\n",
    "    line_group = 'Root measurement name',\n",
    "    labels = {\n",
    "        'Set bias voltage (V)': 'Bias voltage (V)',\n",
    "    },\n",
    "    text = 'Trenches',\n",
    ")\n",
    "fig.show()"
   ]
  },
  {
   "cell_type": "code",
   "execution_count": null,
   "id": "28291282",
   "metadata": {},
   "outputs": [],
   "source": [
    "fig.write_html(f'inter-pixel_distance_vs_bias_voltage.html', include_plotlyjs='cdn')"
   ]
  }
 ],
 "metadata": {
  "kernelspec": {
   "display_name": "Python 3 (ipykernel)",
   "language": "python",
   "name": "python3"
  },
  "language_info": {
   "codemirror_mode": {
    "name": "ipython",
    "version": 3
   },
   "file_extension": ".py",
   "mimetype": "text/x-python",
   "name": "python",
   "nbconvert_exporter": "python",
   "pygments_lexer": "ipython3",
   "version": "3.8.10"
  }
 },
 "nbformat": 4,
 "nbformat_minor": 5
}
