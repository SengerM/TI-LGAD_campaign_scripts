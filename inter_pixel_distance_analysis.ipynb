{
 "cells": [
  {
   "cell_type": "code",
   "execution_count": null,
   "id": "b310a95a",
   "metadata": {},
   "outputs": [],
   "source": [
    "from IPython.core.display import display, HTML\n",
    "display(HTML(\"<style>.container { width:100% !important; }</style>\"))"
   ]
  },
  {
   "cell_type": "code",
   "execution_count": null,
   "id": "c1620198",
   "metadata": {},
   "outputs": [],
   "source": [
    "import pandas\n",
    "import utils\n",
    "from data_processing_bureaucrat.Bureaucrat import Bureaucrat\n",
    "from pathlib import Path\n",
    "import plotly.express as px\n",
    "import measurements_table\n",
    "from calculate_interpixel_distance import script_core as calculate_interpixel_distance"
   ]
  },
  {
   "cell_type": "markdown",
   "id": "125ff8a9",
   "metadata": {},
   "source": [
    "Before starting, we build a table relating each scan name with each \"voltage sweep measurement\""
   ]
  },
  {
   "cell_type": "code",
   "execution_count": null,
   "id": "e06b8683",
   "metadata": {},
   "outputs": [],
   "source": [
    "measurements_table_df = measurements_table.create_measurements_table()\n",
    "\n",
    "# For each of the \"scan 1D seeping bias voltage\" I collect all the single voltage 1D scans that were created in such \"voltage sweep scan\".\n",
    "scans_and_sub_measurements_df = pandas.DataFrame()\n",
    "for root_measurement_name in measurements_table_df.query('Type==\"scan 1D sweeping bias voltage\"').index:\n",
    "    with open(utils.path_to_measurements_directory/Path(root_measurement_name)/Path('scan_1D_sweeping_bias_voltage/README.txt'), 'r') as ifile:\n",
    "        for idx, line in enumerate(ifile):\n",
    "            if idx == 0:\n",
    "                continue\n",
    "            scans_and_sub_measurements_df = scans_and_sub_measurements_df.append({'Scan name': line.replace('\\n',''), 'Voltage scan measurement name': root_measurement_name}, ignore_index=True)\n",
    "scans_and_sub_measurements_df.set_index('Scan name', inplace=True)\n",
    "display(scans_and_sub_measurements_df)"
   ]
  },
  {
   "cell_type": "markdown",
   "id": "f3ac8d46",
   "metadata": {},
   "source": [
    "Read interpixel distance and calibration factor (previously calculated by the respective scripts) for each measurement:"
   ]
  },
  {
   "cell_type": "code",
   "execution_count": null,
   "id": "3e274b38",
   "metadata": {},
   "outputs": [],
   "source": [
    "interpixel_distances_df = pandas.DataFrame()\n",
    "for measurement_name in measurements_table_df.query('Type==\"scan 1D\"').index:\n",
    "    try:\n",
    "        this_measurement_IPD = utils.read_previously_calculated_inter_pixel_distance(measurement_name)\n",
    "    except FileNotFoundError:\n",
    "        this_measurement_IPD = float('NaN')\n",
    "        print(f'Cannot find IPD for measurement {measurement_name}...')\n",
    "    try:\n",
    "        this_measurement_calibration_factor = utils.read_previously_calculated_distance_calibration_factor(measurement_name)\n",
    "    except FileNotFoundError:\n",
    "        this_measurement_calibration_factor = float('NaN')\n",
    "        print(f'Cannot find distance calibration factor for measurement {measurement_name}...')\n",
    "    try:\n",
    "        this_measurement_belongs_to_the_voltage_scan = scans_and_sub_measurements_df.loc[measurement_name,'Voltage scan measurement name']\n",
    "    except KeyError:\n",
    "        this_measurement_belongs_to_the_voltage_scan = '?'\n",
    "    interpixel_distances_df = interpixel_distances_df.append(\n",
    "        {\n",
    "            'Measurement name': measurement_name,\n",
    "            'IPD (m)': this_measurement_IPD,\n",
    "            'Distance calibration factor':this_measurement_calibration_factor,\n",
    "            'Voltage scan measurement name': this_measurement_belongs_to_the_voltage_scan,\n",
    "        },\n",
    "        ignore_index = True,\n",
    "    )\n",
    "interpixel_distances_df.set_index('Measurement name', inplace=True)\n",
    "display(interpixel_distances_df)"
   ]
  },
  {
   "cell_type": "markdown",
   "id": "6aebec86",
   "metadata": {},
   "source": [
    "Now build a full dataframe with this information and the information of each detector:"
   ]
  },
  {
   "cell_type": "code",
   "execution_count": null,
   "id": "2e575c99",
   "metadata": {},
   "outputs": [],
   "source": [
    "interpixel_distances_df['Device'] = measurements_table_df['Measured device']\n",
    "interpixel_distances_df['Bias voltage (V)'] = measurements_table_df['Bias voltage (V)']\n",
    "interpixel_distances_df.loc[interpixel_distances_df['Bias voltage (V)']=='?','Bias voltage (V)'] = 'NaN'\n",
    "interpixel_distances_df['Bias voltage (V)'] = interpixel_distances_df['Bias voltage (V)'].astype(float)\n",
    "interpixel_distances_df.reset_index(inplace=True)\n",
    "interpixel_distances_df.set_index('Device', inplace=True)\n",
    "interpixel_distances_df = interpixel_distances_df.join(utils.bureaucrat.devices_sheet_df)\n",
    "\n",
    "display(interpixel_distances_df)\n",
    "print(sorted(interpixel_distances_df.columns))"
   ]
  },
  {
   "cell_type": "code",
   "execution_count": null,
   "id": "fd220ead",
   "metadata": {
    "scrolled": false
   },
   "outputs": [],
   "source": [
    "df = interpixel_distances_df.copy().reset_index()\n",
    "df = df.query('`Bias voltage (V)`<230') # Higher values produce amplitudes > 1 V and enter into the nonlinear regime of the Cividec amplifiers.\n",
    "df = df[~df['Device'].isin({'1','2'})]\n",
    "df = df[~df['Voltage scan measurement name'].isin(\n",
    "    {\n",
    "        '20211024163128_#65_sweeping_bias_voltage', # This measurement did not have all the pads grounded.\n",
    "    }\n",
    ")]\n",
    "df['IPD with calibration (m)'] = df['IPD (m)']*df['Distance calibration factor']\n",
    "df = df.sort_values(by=['Bias voltage (V)','trenches','trench depth'])\n",
    "fig = utils.line(\n",
    "    data_frame = df,\n",
    "    line_group = 'Voltage scan measurement name',\n",
    "    x = 'Bias voltage (V)',\n",
    "    y = 'IPD with calibration (m)',\n",
    "    facet_col = 'wafer',\n",
    "    facet_row = 'trenches',\n",
    "    color = 'trench depth',\n",
    "    symbol = 'pixel border',\n",
    "    line_dash = 'contact type',\n",
    "    grouped_legend = True,\n",
    "    hover_name = 'Measurement name',\n",
    "    text = 'Device',\n",
    ")\n",
    "fig.show()"
   ]
  },
  {
   "cell_type": "code",
   "execution_count": null,
   "id": "64284eb0",
   "metadata": {},
   "outputs": [],
   "source": [
    "fig.write_html('ipd_vs_bias_voltage.html', include_plotlyjs = 'cdn')"
   ]
  }
 ],
 "metadata": {
  "kernelspec": {
   "display_name": "Python 3 (ipykernel)",
   "language": "python",
   "name": "python3"
  },
  "language_info": {
   "codemirror_mode": {
    "name": "ipython",
    "version": 3
   },
   "file_extension": ".py",
   "mimetype": "text/x-python",
   "name": "python",
   "nbconvert_exporter": "python",
   "pygments_lexer": "ipython3",
   "version": "3.8.10"
  }
 },
 "nbformat": 4,
 "nbformat_minor": 5
}
