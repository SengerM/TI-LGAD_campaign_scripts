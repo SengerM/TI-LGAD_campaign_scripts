{
 "cells": [
  {
   "cell_type": "code",
   "execution_count": null,
   "id": "b310a95a",
   "metadata": {},
   "outputs": [],
   "source": [
    "from IPython.core.display import display, HTML\n",
    "display(HTML(\"<style>.container { width:100% !important; }</style>\"))\n",
    "%autosave 0"
   ]
  },
  {
   "cell_type": "code",
   "execution_count": null,
   "id": "76eef988",
   "metadata": {},
   "outputs": [],
   "source": [
    "from pathlib import Path\n",
    "from measurements_table import create_measurements_table\n",
    "import utils\n",
    "import pandas\n",
    "import plotly.express as px"
   ]
  },
  {
   "cell_type": "markdown",
   "id": "3bc127ee",
   "metadata": {},
   "source": [
    "# Read data"
   ]
  },
  {
   "cell_type": "code",
   "execution_count": null,
   "id": "819bc898",
   "metadata": {},
   "outputs": [],
   "source": [
    "IV_measurements_table_df = create_measurements_table().query('Type==\"IV curve\"')\n",
    "\n",
    "measured_data_df = pandas.DataFrame()\n",
    "for measurement_name in IV_measurements_table_df.index:\n",
    "    df = pandas.read_feather(utils.path_to_measurements_directory/Path(measurement_name)/Path('IV_curve/measured_data.fd'))\n",
    "    df['Bias voltage (V)'] *= -1\n",
    "    df['Bias current (A)'] *= -1\n",
    "    df['Measurement name'] = measurement_name\n",
    "    device_name = IV_measurements_table_df.loc[measurement_name, 'Measured device']\n",
    "    df['Device'] = device_name\n",
    "    df['Device specs'] = utils.bureaucrat.get_device_specs_string(device_name, humanize=True)\n",
    "    for param in {'Trench depth','Trenches','Trench process','Pixel border','Contact type','Wafer'}:\n",
    "        df[param] = utils.bureaucrat.get_devices_specs_dictionary(device_name)[param.lower()]\n",
    "    measured_data_df = measured_data_df.append(df, ignore_index=True)"
   ]
  },
  {
   "cell_type": "code",
   "execution_count": null,
   "id": "36e4708a",
   "metadata": {},
   "outputs": [],
   "source": [
    "display(measured_data_df)"
   ]
  },
  {
   "cell_type": "markdown",
   "id": "9f0947bf",
   "metadata": {},
   "source": [
    "Calculate mean and std at each `n_voltage`:"
   ]
  },
  {
   "cell_type": "code",
   "execution_count": null,
   "id": "73a2a1e1",
   "metadata": {},
   "outputs": [],
   "source": [
    "mean_std_df = utils.mean_std(measured_data_df, by=['n_voltage', 'Measurement name','Device','Device specs','Pixel border','Trench depth','Contact type','Trench process','Trenches','Wafer'])\n",
    "display(mean_std_df)"
   ]
  },
  {
   "cell_type": "markdown",
   "id": "c40ac9f1",
   "metadata": {},
   "source": [
    "# Plots"
   ]
  },
  {
   "cell_type": "code",
   "execution_count": null,
   "id": "23f4aac0",
   "metadata": {},
   "outputs": [],
   "source": [
    "fig = utils.line(\n",
    "    title = 'TI-LGADs IV curves',\n",
    "    data_frame = mean_std_df.sort_values(['Device','n_voltage']).reset_index(),\n",
    "    x = 'Bias voltage (V) mean',\n",
    "    y = 'Bias current (A) mean',\n",
    "    labels = {\n",
    "        'Bias voltage (V) mean': 'Bias voltage (V)',\n",
    "        'Bias current (A) mean': 'Bias current (A)',\n",
    "    },\n",
    "    error_y = 'Bias current (A) std',\n",
    "    error_y_mode = 'band',\n",
    "    symbol = 'Device',\n",
    "    #line_dash = 'Trench depth',\n",
    "    hover_name = 'Measurement name',\n",
    "    log_y = True,\n",
    "    line_group = 'Measurement name',\n",
    ")\n",
    "fig.show()"
   ]
  },
  {
   "cell_type": "markdown",
   "id": "dc236295",
   "metadata": {},
   "source": [
    "## Plots for the RD50 Workshop"
   ]
  },
  {
   "cell_type": "code",
   "execution_count": null,
   "id": "17ce51b4",
   "metadata": {},
   "outputs": [],
   "source": [
    "df = mean_std_df.sort_values(['Trenches','Device','n_voltage']).reset_index()\n",
    "df = df.loc[~df['Device'].isin({ # Remove dead devices.\n",
    "    '1',\n",
    "    '2',\n",
    "    '16',\n",
    "    '21',\n",
    "    '48',\n",
    "    '55',\n",
    "    '56',\n",
    "    '80',\n",
    "    '81',\n",
    "    '86',\n",
    "    '17', \n",
    "    '77',\n",
    "})]\n",
    "df = df.loc[~df['Measurement name'].isin({ # Remove some specific measurements.\n",
    "    '20211024131707_#65_IV_curve',\n",
    "    '20211023104738_#45_IVCurve', # This is one of the first measurements I did. Later on I re-measured #45 and it was much better, don't know what happened in this particular measurement.\n",
    "})]\n",
    "df['Trenches'] = df['Trenches'].astype(str)\n",
    "fig = utils.line(\n",
    "    title = 'TI-LGADs IV curves',\n",
    "    data_frame = df,\n",
    "    x = 'Bias voltage (V) mean',\n",
    "    y = 'Bias current (A) mean',\n",
    "    labels = {\n",
    "        'Bias voltage (V) mean': 'Bias voltage (V)',\n",
    "        'Bias current (A) mean': 'Bias current (A)',\n",
    "    },\n",
    "    error_y = 'Bias current (A) std',\n",
    "    error_y_mode = 'band',\n",
    "    color = 'Trench depth',\n",
    "    symbol = 'Pixel border',\n",
    "    line_dash = 'Contact type',\n",
    "    facet_col = 'Trenches',\n",
    "    hover_name = 'Measurement name',\n",
    "    line_group = 'Measurement name',\n",
    "    grouped_legend = True,\n",
    "    log_y = True,\n",
    ")\n",
    "fig.show()"
   ]
  },
  {
   "cell_type": "code",
   "execution_count": null,
   "id": "bd9d1408",
   "metadata": {},
   "outputs": [],
   "source": [
    "fig.write_html(f'iv_curves.html', include_plotlyjs='cdn')"
   ]
  },
  {
   "cell_type": "markdown",
   "id": "9d60c8ea",
   "metadata": {},
   "source": [
    "# The death of device #2"
   ]
  },
  {
   "cell_type": "code",
   "execution_count": null,
   "id": "a72ee163",
   "metadata": {},
   "outputs": [],
   "source": [
    "fig = utils.line(\n",
    "    title = 'TI-LGADs IV curves',\n",
    "    data_frame = mean_std_df.query('Device==\"2\"').sort_values(['Device','n_voltage']).reset_index(),\n",
    "    x = 'Bias voltage (V) mean',\n",
    "    y = 'Bias current (A) mean',\n",
    "    labels = {\n",
    "        'Bias voltage (V) mean': 'Bias voltage (V)',\n",
    "        'Bias current (A) mean': 'Bias current (A)',\n",
    "    },\n",
    "    symbol = 'Device',\n",
    "    hover_name = 'Measurement name',\n",
    "    log_y = True,\n",
    "    line_group = 'Measurement name',\n",
    "    animation_frame = 'Measurement name'\n",
    ")\n",
    "fig.show()"
   ]
  },
  {
   "cell_type": "code",
   "execution_count": null,
   "id": "4419d354",
   "metadata": {},
   "outputs": [],
   "source": []
  }
 ],
 "metadata": {
  "kernelspec": {
   "display_name": "Python 3 (ipykernel)",
   "language": "python",
   "name": "python3"
  },
  "language_info": {
   "codemirror_mode": {
    "name": "ipython",
    "version": 3
   },
   "file_extension": ".py",
   "mimetype": "text/x-python",
   "name": "python",
   "nbconvert_exporter": "python",
   "pygments_lexer": "ipython3",
   "version": "3.8.10"
  }
 },
 "nbformat": 4,
 "nbformat_minor": 5
}
