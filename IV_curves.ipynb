{
 "cells": [
  {
   "cell_type": "markdown",
   "id": "cfff0551",
   "metadata": {},
   "source": [
    "# *IV Curves*"
   ]
  },
  {
   "cell_type": "code",
   "execution_count": null,
   "id": "b310a95a",
   "metadata": {},
   "outputs": [],
   "source": [
    "from IPython.core.display import display, HTML\n",
    "display(HTML(\"<style>.container { width:100% !important; }</style>\"))\n",
    "%autosave 0"
   ]
  },
  {
   "cell_type": "code",
   "execution_count": null,
   "id": "76eef988",
   "metadata": {},
   "outputs": [],
   "source": [
    "from pathlib import Path\n",
    "from measurements_table import create_measurements_table\n",
    "import utils\n",
    "import pandas\n",
    "import plotly.express as px"
   ]
  },
  {
   "cell_type": "markdown",
   "id": "3bc127ee",
   "metadata": {},
   "source": [
    "# Read data"
   ]
  },
  {
   "cell_type": "code",
   "execution_count": null,
   "id": "819bc898",
   "metadata": {},
   "outputs": [],
   "source": [
    "IV_measurements_table_df = create_measurements_table().query('Type==\"IV curve\"')\n",
    "\n",
    "measured_data_df = pandas.DataFrame()\n",
    "for measurement_name in IV_measurements_table_df.index:\n",
    "    df = pandas.read_feather(utils.path_to_measurements_directory/Path(measurement_name)/Path('IV_curve/measured_data.fd'))\n",
    "    df['Bias voltage (V)'] *= -1\n",
    "    df['Bias current (A)'] *= -1\n",
    "    df['Measurement name'] = measurement_name\n",
    "    device_name = IV_measurements_table_df.loc[measurement_name, 'Measured device']\n",
    "    df['Device'] = device_name\n",
    "    measured_data_df = measured_data_df.append(df, ignore_index=True)\n",
    "display(measured_data_df)"
   ]
  },
  {
   "cell_type": "markdown",
   "id": "b50ca95f",
   "metadata": {},
   "source": [
    "Add some rows with information of each device:"
   ]
  },
  {
   "cell_type": "code",
   "execution_count": null,
   "id": "61d4ec49",
   "metadata": {},
   "outputs": [],
   "source": [
    "measured_data_df.set_index('Device', inplace=True)\n",
    "measured_data_df = measured_data_df.join(utils.bureaucrat.devices_sheet_df)\n",
    "measured_data_df.reset_index(inplace=True)\n",
    "display(measured_data_df)\n",
    "print(sorted(measured_data_df.columns))"
   ]
  },
  {
   "cell_type": "markdown",
   "id": "9f0947bf",
   "metadata": {},
   "source": [
    "Calculate mean and std at each `n_voltage`:"
   ]
  },
  {
   "cell_type": "code",
   "execution_count": null,
   "id": "73a2a1e1",
   "metadata": {},
   "outputs": [],
   "source": [
    "mean_std_df = measured_data_df.copy()\n",
    "mean_std_df.drop(columns=['was measured before irradiation','When','x','y','status','seems dead?','irradiate with','fluence','comments','color'], inplace=True)\n",
    "mean_std_df = utils.mean_std(\n",
    "    mean_std_df,\n",
    "    by = list(set(mean_std_df.columns).difference({\n",
    "        'Bias current (A)',\n",
    "        'Bias voltage (V)',\n",
    "        'n_trigger',\n",
    "    }))\n",
    ")\n",
    "display(mean_std_df)\n",
    "print(sorted(mean_std_df.columns))"
   ]
  },
  {
   "cell_type": "markdown",
   "id": "c40ac9f1",
   "metadata": {},
   "source": [
    "# Plots"
   ]
  },
  {
   "cell_type": "code",
   "execution_count": null,
   "id": "23f4aac0",
   "metadata": {},
   "outputs": [],
   "source": [
    "df = mean_std_df.copy()\n",
    "fig = utils.line(\n",
    "    title = 'TI-LGADs IV curves',\n",
    "    data_frame = df.sort_values(['Device','n_voltage']).reset_index(),\n",
    "    x = 'Bias voltage (V) mean',\n",
    "    y = 'Bias current (A) mean',\n",
    "    labels = {\n",
    "        'Bias voltage (V) mean': 'Bias voltage (V)',\n",
    "        'Bias current (A) mean': 'Bias current (A)',\n",
    "    },\n",
    "    error_y = 'Bias current (A) std',\n",
    "    error_y_mode = 'band',\n",
    "    facet_col = 'wafer',\n",
    "    facet_row = 'trenches',\n",
    "    color = 'trench depth',\n",
    "    symbol = 'pixel border',\n",
    "    line_dash = 'contact type',\n",
    "    grouped_legend = True,\n",
    "    hover_name = 'Measurement name',\n",
    "    #text = 'Device',\n",
    "    log_y = True,\n",
    "    line_group = 'Measurement name',\n",
    ")\n",
    "fig.show()"
   ]
  },
  {
   "cell_type": "markdown",
   "id": "dc236295",
   "metadata": {},
   "source": [
    "## Plots for the RD50 Workshop"
   ]
  },
  {
   "cell_type": "code",
   "execution_count": null,
   "id": "17ce51b4",
   "metadata": {},
   "outputs": [],
   "source": [
    "df = mean_std_df.reset_index()\n",
    "df = df.loc[df['Device'].isin({ # Keep only the devices that I am showing in the presentation.\n",
    "    '4','7','14','20','23','34','36','45','52','54','65','68','78','84','87',\n",
    "    '16','50','81', # These are those devices that were never alive (I suspect due to some design bug or so).\n",
    "})]\n",
    "df = df.loc[~df['Measurement name'].isin({ # Remove some specific measurements.\n",
    "    '20211024131707_#65_IV_curve', # Not all pads grounded.\n",
    "    '20211023104738_#45_IVCurve', # This is one of the first measurements I did. Later on I re-measured #45 and it was much better, don't know what happened in this particular measurement.\n",
    "    '20211108170237_#20_after_going_to_PSI', # Duplicated for this device.\n",
    "    '20211108171401_#78_after_going_to_PSI', # Duplicated for this device.\n",
    "})]\n",
    "df = df.loc[df['Bias voltage (V) mean'].diff()>0] # Find rows in which voltage is increasing to remove the \"dual sweep\".\n",
    "fig = utils.line(\n",
    "    title = 'TI-LGADs IV curves',\n",
    "    data_frame = df.sort_values(['trenches','trench depth','Device','n_voltage']),\n",
    "    x = 'Bias voltage (V) mean',\n",
    "    y = 'Bias current (A) mean',\n",
    "    labels = {\n",
    "        'Bias voltage (V) mean': 'Bias voltage (V)',\n",
    "        'Bias current (A) mean': 'Bias current (A)',\n",
    "    },\n",
    "    error_y = 'Bias current (A) std',\n",
    "    error_y_mode = 'band',\n",
    "    facet_col = 'wafer',\n",
    "    facet_row = 'trenches',\n",
    "    color = 'trench depth',\n",
    "    symbol = 'pixel border',\n",
    "    line_dash = 'contact type',\n",
    "    grouped_legend = True,\n",
    "    hover_name = 'Measurement name',\n",
    "   # text = 'Device',\n",
    "    log_y = True,\n",
    "    line_group = 'Measurement name',\n",
    ")\n",
    "fig.show()\n",
    "fig.write_html(f'iv_curves.html', include_plotlyjs='cdn')"
   ]
  },
  {
   "cell_type": "markdown",
   "id": "9d60c8ea",
   "metadata": {},
   "source": [
    "# The death of device #2"
   ]
  },
  {
   "cell_type": "code",
   "execution_count": null,
   "id": "a72ee163",
   "metadata": {},
   "outputs": [],
   "source": [
    "fig = utils.line(\n",
    "    title = 'TI-LGADs IV curves',\n",
    "    data_frame = mean_std_df.query('Device==\"2\"').sort_values(['Device','n_voltage']).reset_index(),\n",
    "    x = 'Bias voltage (V) mean',\n",
    "    y = 'Bias current (A) mean',\n",
    "    labels = {\n",
    "        'Bias voltage (V) mean': 'Bias voltage (V)',\n",
    "        'Bias current (A) mean': 'Bias current (A)',\n",
    "    },\n",
    "    symbol = 'Device',\n",
    "    hover_name = 'Measurement name',\n",
    "    log_y = True,\n",
    "    line_group = 'Measurement name',\n",
    "    animation_frame = 'Measurement name'\n",
    ")\n",
    "fig.show()"
   ]
  }
 ],
 "metadata": {
  "kernelspec": {
   "display_name": "Python 3 (ipykernel)",
   "language": "python",
   "name": "python3"
  },
  "language_info": {
   "codemirror_mode": {
    "name": "ipython",
    "version": 3
   },
   "file_extension": ".py",
   "mimetype": "text/x-python",
   "name": "python",
   "nbconvert_exporter": "python",
   "pygments_lexer": "ipython3",
   "version": "3.8.10"
  }
 },
 "nbformat": 4,
 "nbformat_minor": 5
}
